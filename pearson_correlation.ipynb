{
 "cells": [
  {
   "cell_type": "code",
   "execution_count": 4,
   "id": "fe964147",
   "metadata": {},
   "outputs": [],
   "source": [
    "from scipy.stats import pearsonr\n",
    "import numpy as np"
   ]
  },
  {
   "cell_type": "code",
   "execution_count": 15,
   "id": "97d9bd2b",
   "metadata": {},
   "outputs": [],
   "source": [
    "x = [-2,-1,0,1,2]\n",
    "y = [4,1,3,2,0]"
   ]
  },
  {
   "cell_type": "code",
   "execution_count": 16,
   "id": "c9892be8",
   "metadata": {},
   "outputs": [],
   "source": [
    "sig_xy=0\n",
    "for i in range(len(x)):\n",
    "    a = x[i]*y[i]\n",
    "    sig_xy += a\n",
    "mean_x = np.mean(x)\n",
    "mean_y = np.mean(y)\n",
    "std_x = np.std(x)\n",
    "std_y = np.std(y)"
   ]
  },
  {
   "cell_type": "code",
   "execution_count": 17,
   "id": "f0e7bf6c",
   "metadata": {},
   "outputs": [
    {
     "data": {
      "text/plain": [
       "-0.6999999999999998"
      ]
     },
     "execution_count": 17,
     "metadata": {},
     "output_type": "execute_result"
    }
   ],
   "source": [
    "corr = ((sig_xy/len(x)) - (mean_x*mean_y))/(std_x*std_y)\n",
    "corr"
   ]
  },
  {
   "cell_type": "code",
   "execution_count": 18,
   "id": "64ac4fff",
   "metadata": {},
   "outputs": [
    {
     "data": {
      "text/plain": [
       "(-0.7000000000000001, 0.1881204043741873)"
      ]
     },
     "execution_count": 18,
     "metadata": {},
     "output_type": "execute_result"
    }
   ],
   "source": [
    "x = [-2,-1,0,1,2]\n",
    "y = [4,1,3,2,0]\n",
    "corr = pearsonr(x,y)\n",
    "corr"
   ]
  },
  {
   "cell_type": "code",
   "execution_count": 19,
   "id": "3d2a3708",
   "metadata": {},
   "outputs": [],
   "source": [
    "import pandas as pd"
   ]
  },
  {
   "cell_type": "code",
   "execution_count": 21,
   "id": "f3c2a730",
   "metadata": {},
   "outputs": [],
   "source": [
    "df = pd.read_excel(\"Scores.xlsx\")"
   ]
  },
  {
   "cell_type": "code",
   "execution_count": 23,
   "id": "977a12bc",
   "metadata": {},
   "outputs": [
    {
     "data": {
      "text/html": [
       "<div>\n",
       "<style scoped>\n",
       "    .dataframe tbody tr th:only-of-type {\n",
       "        vertical-align: middle;\n",
       "    }\n",
       "\n",
       "    .dataframe tbody tr th {\n",
       "        vertical-align: top;\n",
       "    }\n",
       "\n",
       "    .dataframe thead th {\n",
       "        text-align: right;\n",
       "    }\n",
       "</style>\n",
       "<table border=\"1\" class=\"dataframe\">\n",
       "  <thead>\n",
       "    <tr style=\"text-align: right;\">\n",
       "      <th></th>\n",
       "      <th>English</th>\n",
       "      <th>History</th>\n",
       "    </tr>\n",
       "  </thead>\n",
       "  <tbody>\n",
       "    <tr>\n",
       "      <th>0</th>\n",
       "      <td>74.573424</td>\n",
       "      <td>86.496775</td>\n",
       "    </tr>\n",
       "    <tr>\n",
       "      <th>1</th>\n",
       "      <td>75.115299</td>\n",
       "      <td>86.801171</td>\n",
       "    </tr>\n",
       "    <tr>\n",
       "      <th>2</th>\n",
       "      <td>75.691345</td>\n",
       "      <td>87.981466</td>\n",
       "    </tr>\n",
       "    <tr>\n",
       "      <th>3</th>\n",
       "      <td>73.888714</td>\n",
       "      <td>85.411392</td>\n",
       "    </tr>\n",
       "    <tr>\n",
       "      <th>4</th>\n",
       "      <td>75.015225</td>\n",
       "      <td>86.812830</td>\n",
       "    </tr>\n",
       "  </tbody>\n",
       "</table>\n",
       "</div>"
      ],
      "text/plain": [
       "     English    History\n",
       "0  74.573424  86.496775\n",
       "1  75.115299  86.801171\n",
       "2  75.691345  87.981466\n",
       "3  73.888714  85.411392\n",
       "4  75.015225  86.812830"
      ]
     },
     "execution_count": 23,
     "metadata": {},
     "output_type": "execute_result"
    }
   ],
   "source": [
    "df.head()"
   ]
  },
  {
   "cell_type": "code",
   "execution_count": 24,
   "id": "22748a7b",
   "metadata": {},
   "outputs": [
    {
     "name": "stdout",
     "output_type": "stream",
     "text": [
      "          English   History\n",
      "English  1.000000  0.930912\n",
      "History  0.930912  1.000000\n"
     ]
    }
   ],
   "source": [
    "print(df.corr())"
   ]
  }
 ],
 "metadata": {
  "kernelspec": {
   "display_name": "Python 3 (ipykernel)",
   "language": "python",
   "name": "python3"
  },
  "language_info": {
   "codemirror_mode": {
    "name": "ipython",
    "version": 3
   },
   "file_extension": ".py",
   "mimetype": "text/x-python",
   "name": "python",
   "nbconvert_exporter": "python",
   "pygments_lexer": "ipython3",
   "version": "3.9.12"
  }
 },
 "nbformat": 4,
 "nbformat_minor": 5
}
