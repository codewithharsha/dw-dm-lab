{
 "cells": [
  {
   "cell_type": "code",
   "execution_count": 13,
   "id": "6fe2691a",
   "metadata": {},
   "outputs": [
    {
     "name": "stdout",
     "output_type": "stream",
     "text": [
      "Enter point p1:\n",
      "2 5\n",
      "Enter point p:\n",
      "3 6\n",
      "1.4142135623730951\n"
     ]
    }
   ],
   "source": [
    "from math import sqrt\n",
    "print(\"Enter point p1:\")\n",
    "x1,y1 = map(int,input().split())\n",
    "print(\"Enter point p:\")\n",
    "x2,y2 = map(int,input().split())\n",
    "res = sqrt(((x1-x2)**2) + ((y2-y1)**2))\n",
    "print(res)"
   ]
  },
  {
   "cell_type": "code",
   "execution_count": 10,
   "id": "501bfbaf",
   "metadata": {},
   "outputs": [
    {
     "ename": "SyntaxError",
     "evalue": "invalid syntax (1445775496.py, line 10)",
     "output_type": "error",
     "traceback": [
      "\u001b[1;36m  Input \u001b[1;32mIn [10]\u001b[1;36m\u001b[0m\n\u001b[1;33m    res = distance.euclidean(p1,p2)\u001b[0m\n\u001b[1;37m    ^\u001b[0m\n\u001b[1;31mSyntaxError\u001b[0m\u001b[1;31m:\u001b[0m invalid syntax\n"
     ]
    }
   ],
   "source": [
    "from math import dist\n",
    "from scipy.spatial import distance\n",
    "#using predefined functions\n",
    "print(\"Enter point p1:\")\n",
    "p1 = tuple(map(int,input().split()))\n",
    "print(\"Enter point p:\")\n",
    "p2 = tuple(map(int,input().split())\n",
    "#dist func from math module\n",
    "# res = dist(p1,p2)\n",
    "res = distance.euclidean(p1,p2)\n",
    "print(res)"
   ]
  },
  {
   "cell_type": "code",
   "execution_count": 12,
   "id": "7a1153c3",
   "metadata": {},
   "outputs": [
    {
     "name": "stdout",
     "output_type": "stream",
     "text": [
      "1.4142135623730951\n"
     ]
    }
   ],
   "source": [
    "from scipy.spatial import distance\n",
    "p1 = (2,5)\n",
    "p2 = (3,6)\n",
    "res = distance.euclidean(p1,p2)\n",
    "print(res)"
   ]
  },
  {
   "cell_type": "code",
   "execution_count": 14,
   "id": "30046cbd",
   "metadata": {},
   "outputs": [
    {
     "name": "stdout",
     "output_type": "stream",
     "text": [
      "1.4142135623730951\n"
     ]
    }
   ],
   "source": [
    "from math import dist\n",
    "res = dist(p1,p2)\n",
    "print(res)"
   ]
  },
  {
   "cell_type": "code",
   "execution_count": null,
   "id": "6aebaff3",
   "metadata": {},
   "outputs": [],
   "source": []
  }
 ],
 "metadata": {
  "kernelspec": {
   "display_name": "Python 3 (ipykernel)",
   "language": "python",
   "name": "python3"
  },
  "language_info": {
   "codemirror_mode": {
    "name": "ipython",
    "version": 3
   },
   "file_extension": ".py",
   "mimetype": "text/x-python",
   "name": "python",
   "nbconvert_exporter": "python",
   "pygments_lexer": "ipython3",
   "version": "3.9.12"
  }
 },
 "nbformat": 4,
 "nbformat_minor": 5
}
