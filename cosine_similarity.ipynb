{
 "cells": [
  {
   "cell_type": "code",
   "execution_count": 18,
   "id": "6522008d",
   "metadata": {
    "scrolled": true
   },
   "outputs": [
    {
     "name": "stdout",
     "output_type": "stream",
     "text": [
      "1.0\n",
      "5.477225575051661\n",
      "30\n"
     ]
    }
   ],
   "source": [
    "import math\n",
    "a = [1,2,3,4]\n",
    "b = [1,2,3,4]\n",
    "ab =0\n",
    "suma=0\n",
    "sumb=0\n",
    "for i in range(len(a)):\n",
    "    ab += a[i]*b[i]\n",
    "    suma += a[i]*a[i]\n",
    "    sumb += b[i]*b[i]\n",
    "cosinesi = ab/(math.sqrt(suma)*math.sqrt(sumb))\n",
    "print(cosinesi)\n",
    "print(math.sqrt(suma))\n",
    "print(sumb)"
   ]
  },
  {
   "cell_type": "markdown",
   "id": "37ef3901",
   "metadata": {},
   "source": [
    "# using predefined functions"
   ]
  },
  {
   "cell_type": "code",
   "execution_count": 8,
   "id": "77b4435a",
   "metadata": {},
   "outputs": [],
   "source": [
    "from sklearn.metrics.pairwise import cosine_similarity,cosine_distances"
   ]
  },
  {
   "cell_type": "code",
   "execution_count": 11,
   "id": "743f3084",
   "metadata": {},
   "outputs": [
    {
     "data": {
      "text/plain": [
       "array([[1.]])"
      ]
     },
     "execution_count": 11,
     "metadata": {},
     "output_type": "execute_result"
    }
   ],
   "source": [
    "cosine_similarity([a],[b])"
   ]
  },
  {
   "cell_type": "code",
   "execution_count": 13,
   "id": "775debd5",
   "metadata": {},
   "outputs": [
    {
     "data": {
      "text/plain": [
       "array([[0.]])"
      ]
     },
     "execution_count": 13,
     "metadata": {},
     "output_type": "execute_result"
    }
   ],
   "source": [
    "cosine_distances([a],[b])"
   ]
  },
  {
   "cell_type": "code",
   "execution_count": null,
   "id": "15af072b",
   "metadata": {},
   "outputs": [],
   "source": []
  }
 ],
 "metadata": {
  "kernelspec": {
   "display_name": "Python 3 (ipykernel)",
   "language": "python",
   "name": "python3"
  },
  "language_info": {
   "codemirror_mode": {
    "name": "ipython",
    "version": 3
   },
   "file_extension": ".py",
   "mimetype": "text/x-python",
   "name": "python",
   "nbconvert_exporter": "python",
   "pygments_lexer": "ipython3",
   "version": "3.9.12"
  }
 },
 "nbformat": 4,
 "nbformat_minor": 5
}
