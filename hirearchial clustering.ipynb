{
 "cells": [
  {
   "cell_type": "code",
   "execution_count": 3,
   "id": "d464c786",
   "metadata": {},
   "outputs": [],
   "source": [
    "import pandas as pd\n",
    "import numpy as np\n",
    "import matplotlib.pyplot as plt\n",
    "import scipy.cluster.hierarchy as shc\n",
    "from scipy.spatial.distance import squareform,pdist"
   ]
  },
  {
   "cell_type": "code",
   "execution_count": 8,
   "id": "d9986391",
   "metadata": {},
   "outputs": [],
   "source": [
    "a = [0.39,0.73,0.91,0.28,0.06]\n",
    "b = [0.17,0.78,0.04,0.01,0.73]\n",
    "point = ['p1','p2','p3','p4','p5']\n",
    "data = pd.DataFrame({'Point':point,'a':np.round(a,2),'b':np.round(b,2)})"
   ]
  },
  {
   "cell_type": "code",
   "execution_count": 11,
   "id": "81a6b30a",
   "metadata": {},
   "outputs": [
    {
     "data": {
      "text/html": [
       "<div>\n",
       "<style scoped>\n",
       "    .dataframe tbody tr th:only-of-type {\n",
       "        vertical-align: middle;\n",
       "    }\n",
       "\n",
       "    .dataframe tbody tr th {\n",
       "        vertical-align: top;\n",
       "    }\n",
       "\n",
       "    .dataframe thead th {\n",
       "        text-align: right;\n",
       "    }\n",
       "</style>\n",
       "<table border=\"1\" class=\"dataframe\">\n",
       "  <thead>\n",
       "    <tr style=\"text-align: right;\">\n",
       "      <th></th>\n",
       "      <th>a</th>\n",
       "      <th>b</th>\n",
       "    </tr>\n",
       "    <tr>\n",
       "      <th>Point</th>\n",
       "      <th></th>\n",
       "      <th></th>\n",
       "    </tr>\n",
       "  </thead>\n",
       "  <tbody>\n",
       "    <tr>\n",
       "      <th>p1</th>\n",
       "      <td>0.39</td>\n",
       "      <td>0.17</td>\n",
       "    </tr>\n",
       "    <tr>\n",
       "      <th>p2</th>\n",
       "      <td>0.73</td>\n",
       "      <td>0.78</td>\n",
       "    </tr>\n",
       "    <tr>\n",
       "      <th>p3</th>\n",
       "      <td>0.91</td>\n",
       "      <td>0.04</td>\n",
       "    </tr>\n",
       "    <tr>\n",
       "      <th>p4</th>\n",
       "      <td>0.28</td>\n",
       "      <td>0.01</td>\n",
       "    </tr>\n",
       "    <tr>\n",
       "      <th>p5</th>\n",
       "      <td>0.06</td>\n",
       "      <td>0.73</td>\n",
       "    </tr>\n",
       "  </tbody>\n",
       "</table>\n",
       "</div>"
      ],
      "text/plain": [
       "          a     b\n",
       "Point            \n",
       "p1     0.39  0.17\n",
       "p2     0.73  0.78\n",
       "p3     0.91  0.04\n",
       "p4     0.28  0.01\n",
       "p5     0.06  0.73"
      ]
     },
     "execution_count": 11,
     "metadata": {},
     "output_type": "execute_result"
    }
   ],
   "source": [
    "data = data.set_index('Point')\n",
    "data"
   ]
  },
  {
   "cell_type": "code",
   "execution_count": 12,
   "id": "c55a39bc",
   "metadata": {},
   "outputs": [
    {
     "data": {
      "text/plain": [
       "Text(0.5, 1.0, 'Scatter Plot X and Y')"
      ]
     },
     "execution_count": 12,
     "metadata": {},
     "output_type": "execute_result"
    },
    {
     "data": {
      "image/png": "[encoded data removed]",
      "text/plain": [
       "<Figure size 576x360 with 1 Axes>"
      ]
     },
     "metadata": {
      "needs_background": "light"
     },
     "output_type": "display_data"
    }
   ],
   "source": [
    "plt.figure(figsize=(8,5))\n",
    "plt.scatter(data['a'],data['b'],c='r',marker='*')\n",
    "plt.xlabel('Column A')\n",
    "plt.xlabel('Column B')\n",
    "plt.title(\"Scatter Plot X and Y\")"
   ]
  },
  {
   "cell_type": "code",
   "execution_count": 14,
   "id": "3582c9d4",
   "metadata": {
    "scrolled": true
   },
   "outputs": [
    {
     "data": {
      "text/html": [
       "<div>\n",
       "<style scoped>\n",
       "    .dataframe tbody tr th:only-of-type {\n",
       "        vertical-align: middle;\n",
       "    }\n",
       "\n",
       "    .dataframe tbody tr th {\n",
       "        vertical-align: top;\n",
       "    }\n",
       "\n",
       "    .dataframe thead th {\n",
       "        text-align: right;\n",
       "    }\n",
       "</style>\n",
       "<table border=\"1\" class=\"dataframe\">\n",
       "  <thead>\n",
       "    <tr style=\"text-align: right;\">\n",
       "      <th></th>\n",
       "      <th>p1</th>\n",
       "      <th>p2</th>\n",
       "      <th>p3</th>\n",
       "      <th>p4</th>\n",
       "      <th>p5</th>\n",
       "    </tr>\n",
       "  </thead>\n",
       "  <tbody>\n",
       "    <tr>\n",
       "      <th>p1</th>\n",
       "      <td>0.000000</td>\n",
       "      <td>0.698355</td>\n",
       "      <td>0.536004</td>\n",
       "      <td>0.194165</td>\n",
       "      <td>0.650000</td>\n",
       "    </tr>\n",
       "    <tr>\n",
       "      <th>p2</th>\n",
       "      <td>0.698355</td>\n",
       "      <td>0.000000</td>\n",
       "      <td>0.761577</td>\n",
       "      <td>0.891852</td>\n",
       "      <td>0.671863</td>\n",
       "    </tr>\n",
       "    <tr>\n",
       "      <th>p3</th>\n",
       "      <td>0.536004</td>\n",
       "      <td>0.761577</td>\n",
       "      <td>0.000000</td>\n",
       "      <td>0.630714</td>\n",
       "      <td>1.094806</td>\n",
       "    </tr>\n",
       "    <tr>\n",
       "      <th>p4</th>\n",
       "      <td>0.194165</td>\n",
       "      <td>0.891852</td>\n",
       "      <td>0.630714</td>\n",
       "      <td>0.000000</td>\n",
       "      <td>0.752861</td>\n",
       "    </tr>\n",
       "    <tr>\n",
       "      <th>p5</th>\n",
       "      <td>0.650000</td>\n",
       "      <td>0.671863</td>\n",
       "      <td>1.094806</td>\n",
       "      <td>0.752861</td>\n",
       "      <td>0.000000</td>\n",
       "    </tr>\n",
       "  </tbody>\n",
       "</table>\n",
       "</div>"
      ],
      "text/plain": [
       "          p1        p2        p3        p4        p5\n",
       "p1  0.000000  0.698355  0.536004  0.194165  0.650000\n",
       "p2  0.698355  0.000000  0.761577  0.891852  0.671863\n",
       "p3  0.536004  0.761577  0.000000  0.630714  1.094806\n",
       "p4  0.194165  0.891852  0.630714  0.000000  0.752861\n",
       "p5  0.650000  0.671863  1.094806  0.752861  0.000000"
      ]
     },
     "execution_count": 14,
     "metadata": {},
     "output_type": "execute_result"
    }
   ],
   "source": [
    "dist = pd.DataFrame(squareform(pdist(data[['a','b']]),'eucledian'),columns=data.index.values,index = data.index.values)\n",
    "dist"
   ]
  },
  {
   "cell_type": "code",
   "execution_count": 16,
   "id": "f52dae8e",
   "metadata": {},
   "outputs": [
    {
     "data": {
      "image/png": "[encoded data removed]",
      "text/plain": [
       "<Figure size 864x360 with 1 Axes>"
      ]
     },
     "metadata": {
      "needs_background": "light"
     },
     "output_type": "display_data"
    }
   ],
   "source": [
    "plt.figure(figsize=(12,5))\n",
    "plt.title(\"DendoGram With Single Linkage\")\n",
    "dend = shc.dendrogram(shc.linkage(data[['a','b']],method='single'),labels=data.index)"
   ]
  },
  {
   "cell_type": "code",
   "execution_count": 19,
   "id": "b8616f1b",
   "metadata": {},
   "outputs": [
    {
     "name": "stdout",
     "output_type": "stream",
     "text": [
      "[0 1 0 0 0]\n"
     ]
    }
   ],
   "source": [
    "from sklearn.cluster import AgglomerativeClustering\n",
    "cluster = AgglomerativeClustering(n_clusters=2,affinity='euclidean',linkage='single')\n",
    "print(cluster.fit_predict(data))"
   ]
  },
  {
   "cell_type": "code",
   "execution_count": null,
   "id": "295d1169",
   "metadata": {},
   "outputs": [],
   "source": []
  }
 ],
 "metadata": {
  "kernelspec": {
   "display_name": "Python 3 (ipykernel)",
   "language": "python",
   "name": "python3"
  },
  "language_info": {
   "codemirror_mode": {
    "name": "ipython",
    "version": 3
   },
   "file_extension": ".py",
   "mimetype": "text/x-python",
   "name": "python",
   "nbconvert_exporter": "python",
   "pygments_lexer": "ipython3",
   "version": "3.9.12"
  }
 },
 "nbformat": 4,
 "nbformat_minor": 5
}
