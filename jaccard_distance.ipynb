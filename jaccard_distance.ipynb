{
 "cells": [
  {
   "cell_type": "code",
   "execution_count": 4,
   "id": "66e869be",
   "metadata": {},
   "outputs": [
    {
     "name": "stdout",
     "output_type": "stream",
     "text": [
      "enter the list 1 numbers:\n",
      "1 0 1 0 1 1 0\n",
      "enter the list 2 numbers:\n",
      "0 0 1 1 0 1 1 \n"
     ]
    }
   ],
   "source": [
    "#SMC\n",
    "print(\"enter the list 1 numbers:\")\n",
    "li1 = list(map(int,input().split()))\n",
    "print(\"enter the list 2 numbers:\")\n",
    "li2 = list(map(int,input().split()))\n",
    "f00,f01,f10,f11=0,0,0,0\n",
    "for i in range(len(li1)):\n",
    "    if li1[i] == 0 and li2[i] == 0:\n",
    "        f00 = f00 + 1\n",
    "    elif li1[i] == 0 and li2[i] == 1:\n",
    "        f01 = f01 + 1\n",
    "    elif li1[i] == 1 and li2[i] == 0:\n",
    "        f10 = f10 + 1\n",
    "    elif li1[i] == 1 and li2[i] == 1:\n",
    "        f11 = f11 + 1\n",
    "num = f11 +f00\n",
    "den = f00 + f01 + f10 + f11\n",
    "res = num/den\n",
    "print(\"SMC:\",res)\n",
    "#Jaccards coeff\n",
    "res = f11/(f00+f10+f01)\n",
    "print(\"Jaccards coeff:\",res)"
   ]
  },
  {
   "cell_type": "code",
   "execution_count": 11,
   "id": "4673a6d7",
   "metadata": {},
   "outputs": [
    {
     "name": "stdout",
     "output_type": "stream",
     "text": [
      "[1.0, 0.0, 0.0, 1.0, 1.0, 1.0]\n",
      "[0.0, 0.0, 1.0, 1.0, 1.0, 1.0]\n",
      "f00: 1\n",
      "f01: 1\n",
      "f10: 1\n",
      "f11: 3\n",
      "Jaccard similarity index: 0.6\n",
      "Distance : 0.4\n",
      "Jaccard distance index: 0.4\n"
     ]
    }
   ],
   "source": [
    "x=[1.0,0.0,0.0,1.0,1.0,1.0]\n",
    "y=[0.0,0.0,1.0,1.0,1.0,1.0]\n",
    "print(x)\n",
    "print(y)\n",
    "f00,f01,f10,f11=0,0,0,0\n",
    "for i in range(0,6):\n",
    "    if x[i]==0 and y[i]==0:\n",
    "        f00+=1\n",
    "    elif x[i]==0 and y[i]==1:\n",
    "        f01+=1\n",
    "    elif x[i]==1 and y[i]==0:\n",
    "        f10+=1\n",
    "    elif x[i]==1 and y[i]==1:\n",
    "        f11+=1\n",
    "print('f00:',f00)\n",
    "print('f01:',f01)\n",
    "print('f10:',f10)\n",
    "print('f11:',f11)\n",
    "j=(f11)/(f01+f10+f11)\n",
    "print('Jaccard similarity index:',j)\n",
    "dj=(f01+f10)/(f01+f10+f11)\n",
    "print('Distance :',dj)\n",
    "djj=1-j\n",
    "print('Jaccard distance index:',djj)"
   ]
  },
  {
   "cell_type": "code",
   "execution_count": 10,
   "id": "812e20a0",
   "metadata": {},
   "outputs": [
    {
     "name": "stdout",
     "output_type": "stream",
     "text": [
      "Distace: 0.4\n"
     ]
    }
   ],
   "source": [
    "import numpy as np\n",
    "from scipy.spatial.distance import jaccard\n",
    "a = np.array([1,0,0,1,1,1])\n",
    "b = np.array([0,0,1,1,1,1])\n",
    "d = jaccard(a,b)\n",
    "print(\"jaccard Distace:\",d)"
   ]
  }
 ],
 "metadata": {
  "kernelspec": {
   "display_name": "Python 3 (ipykernel)",
   "language": "python",
   "name": "python3"
  },
  "language_info": {
   "codemirror_mode": {
    "name": "ipython",
    "version": 3
   },
   "file_extension": ".py",
   "mimetype": "text/x-python",
   "name": "python",
   "nbconvert_exporter": "python",
   "pygments_lexer": "ipython3",
   "version": "3.9.12"
  }
 },
 "nbformat": 4,
 "nbformat_minor": 5
}
